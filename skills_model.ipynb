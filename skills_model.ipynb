{
 "cells": [
  {
   "cell_type": "code",
   "execution_count": 90,
   "id": "34e2d9e7",
   "metadata": {},
   "outputs": [],
   "source": [
    "import numpy as np\n",
    "import pandas as pd\n",
    "import matplotlib.pyplot as plt\n",
    "import seaborn as sns\n",
    "import spacy\n",
    "from sklearn.decomposition import PCA\n",
    "from sklearn.ensemble import RandomForestClassifier\n",
    "from sklearn.metrics import accuracy_score"
   ]
  },
  {
   "cell_type": "code",
   "execution_count": 126,
   "id": "4054529d",
   "metadata": {},
   "outputs": [],
   "source": [
    "#import data\n",
    "df = pd.read_pickle('../data/processed/skills_cluster.pkl')"
   ]
  },
  {
   "cell_type": "code",
   "execution_count": 127,
   "id": "5ba76d94",
   "metadata": {},
   "outputs": [],
   "source": [
    "data = df.copy()"
   ]
  },
  {
   "cell_type": "code",
   "execution_count": 128,
   "id": "e3216eb7",
   "metadata": {},
   "outputs": [
    {
     "data": {
      "text/html": [
       "<div>\n",
       "<style scoped>\n",
       "    .dataframe tbody tr th:only-of-type {\n",
       "        vertical-align: middle;\n",
       "    }\n",
       "\n",
       "    .dataframe tbody tr th {\n",
       "        vertical-align: top;\n",
       "    }\n",
       "\n",
       "    .dataframe thead th {\n",
       "        text-align: right;\n",
       "    }\n",
       "</style>\n",
       "<table border=\"1\" class=\"dataframe\">\n",
       "  <thead>\n",
       "    <tr style=\"text-align: right;\">\n",
       "      <th></th>\n",
       "      <th>skill</th>\n",
       "      <th>label</th>\n",
       "    </tr>\n",
       "  </thead>\n",
       "  <tbody>\n",
       "    <tr>\n",
       "      <th>0</th>\n",
       "      <td>.Net</td>\n",
       "      <td>423</td>\n",
       "    </tr>\n",
       "    <tr>\n",
       "      <th>1</th>\n",
       "      <td>.Net Core</td>\n",
       "      <td>337</td>\n",
       "    </tr>\n",
       "    <tr>\n",
       "      <th>2</th>\n",
       "      <td>.Net Development</td>\n",
       "      <td>94</td>\n",
       "    </tr>\n",
       "    <tr>\n",
       "      <th>3</th>\n",
       "      <td>.Net Framework</td>\n",
       "      <td>563</td>\n",
       "    </tr>\n",
       "    <tr>\n",
       "      <th>4</th>\n",
       "      <td>2D</td>\n",
       "      <td>155</td>\n",
       "    </tr>\n",
       "  </tbody>\n",
       "</table>\n",
       "</div>"
      ],
      "text/plain": [
       "              skill  label\n",
       "0              .Net    423\n",
       "1         .Net Core    337\n",
       "2  .Net Development     94\n",
       "3    .Net Framework    563\n",
       "4                2D    155"
      ]
     },
     "execution_count": 128,
     "metadata": {},
     "output_type": "execute_result"
    }
   ],
   "source": [
    "df.head()"
   ]
  },
  {
   "cell_type": "code",
   "execution_count": 129,
   "id": "e349de21",
   "metadata": {},
   "outputs": [],
   "source": [
    "word_embedding = spacy.load(\"en_core_web_md\")"
   ]
  },
  {
   "cell_type": "code",
   "execution_count": 44,
   "id": "e335e6ad",
   "metadata": {},
   "outputs": [],
   "source": [
    "#convert words into vectors\n",
    "df['skill'] = df['skill'].apply(lambda x:list(word_embedding(x).vector))"
   ]
  },
  {
   "cell_type": "code",
   "execution_count": 45,
   "id": "3a799ce9",
   "metadata": {},
   "outputs": [
    {
     "data": {
      "text/html": [
       "<div>\n",
       "<style scoped>\n",
       "    .dataframe tbody tr th:only-of-type {\n",
       "        vertical-align: middle;\n",
       "    }\n",
       "\n",
       "    .dataframe tbody tr th {\n",
       "        vertical-align: top;\n",
       "    }\n",
       "\n",
       "    .dataframe thead th {\n",
       "        text-align: right;\n",
       "    }\n",
       "</style>\n",
       "<table border=\"1\" class=\"dataframe\">\n",
       "  <thead>\n",
       "    <tr style=\"text-align: right;\">\n",
       "      <th></th>\n",
       "      <th>skill</th>\n",
       "      <th>label</th>\n",
       "    </tr>\n",
       "  </thead>\n",
       "  <tbody>\n",
       "    <tr>\n",
       "      <th>0</th>\n",
       "      <td>[0.0, 0.0, 0.0, 0.0, 0.0, 0.0, 0.0, 0.0, 0.0, ...</td>\n",
       "      <td>423</td>\n",
       "    </tr>\n",
       "    <tr>\n",
       "      <th>1</th>\n",
       "      <td>[-0.0092845, -0.0262965, 0.184465, 0.226005, 0...</td>\n",
       "      <td>337</td>\n",
       "    </tr>\n",
       "    <tr>\n",
       "      <th>2</th>\n",
       "      <td>[0.01867, 0.0005098, 0.05625, -0.174205, -0.06...</td>\n",
       "      <td>94</td>\n",
       "    </tr>\n",
       "    <tr>\n",
       "      <th>3</th>\n",
       "      <td>[0.09647, -0.160055, -0.050485, 0.17344, -0.19...</td>\n",
       "      <td>563</td>\n",
       "    </tr>\n",
       "    <tr>\n",
       "      <th>4</th>\n",
       "      <td>[0.54582, 0.99528, 1.0631, -0.2622, 0.27955, 0...</td>\n",
       "      <td>155</td>\n",
       "    </tr>\n",
       "  </tbody>\n",
       "</table>\n",
       "</div>"
      ],
      "text/plain": [
       "                                               skill  label\n",
       "0  [0.0, 0.0, 0.0, 0.0, 0.0, 0.0, 0.0, 0.0, 0.0, ...    423\n",
       "1  [-0.0092845, -0.0262965, 0.184465, 0.226005, 0...    337\n",
       "2  [0.01867, 0.0005098, 0.05625, -0.174205, -0.06...     94\n",
       "3  [0.09647, -0.160055, -0.050485, 0.17344, -0.19...    563\n",
       "4  [0.54582, 0.99528, 1.0631, -0.2622, 0.27955, 0...    155"
      ]
     },
     "execution_count": 45,
     "metadata": {},
     "output_type": "execute_result"
    }
   ],
   "source": [
    "df.head()"
   ]
  },
  {
   "cell_type": "code",
   "execution_count": 48,
   "id": "ef04f373",
   "metadata": {},
   "outputs": [],
   "source": [
    "#split column into multiple columns\n",
    "df_skill = pd.DataFrame(df['skill'].to_list(), columns = ['col'+str(i) for i in range(300)])"
   ]
  },
  {
   "cell_type": "code",
   "execution_count": 49,
   "id": "a7840bf9",
   "metadata": {},
   "outputs": [],
   "source": [
    "df_skill['label'] = df['label']"
   ]
  },
  {
   "cell_type": "code",
   "execution_count": 50,
   "id": "feb62b98",
   "metadata": {},
   "outputs": [
    {
     "data": {
      "text/html": [
       "<div>\n",
       "<style scoped>\n",
       "    .dataframe tbody tr th:only-of-type {\n",
       "        vertical-align: middle;\n",
       "    }\n",
       "\n",
       "    .dataframe tbody tr th {\n",
       "        vertical-align: top;\n",
       "    }\n",
       "\n",
       "    .dataframe thead th {\n",
       "        text-align: right;\n",
       "    }\n",
       "</style>\n",
       "<table border=\"1\" class=\"dataframe\">\n",
       "  <thead>\n",
       "    <tr style=\"text-align: right;\">\n",
       "      <th></th>\n",
       "      <th>col0</th>\n",
       "      <th>col1</th>\n",
       "      <th>col2</th>\n",
       "      <th>col3</th>\n",
       "      <th>col4</th>\n",
       "      <th>col5</th>\n",
       "      <th>col6</th>\n",
       "      <th>col7</th>\n",
       "      <th>col8</th>\n",
       "      <th>col9</th>\n",
       "      <th>...</th>\n",
       "      <th>col291</th>\n",
       "      <th>col292</th>\n",
       "      <th>col293</th>\n",
       "      <th>col294</th>\n",
       "      <th>col295</th>\n",
       "      <th>col296</th>\n",
       "      <th>col297</th>\n",
       "      <th>col298</th>\n",
       "      <th>col299</th>\n",
       "      <th>label</th>\n",
       "    </tr>\n",
       "  </thead>\n",
       "  <tbody>\n",
       "    <tr>\n",
       "      <th>0</th>\n",
       "      <td>0.000000</td>\n",
       "      <td>0.000000</td>\n",
       "      <td>0.000000</td>\n",
       "      <td>0.000000</td>\n",
       "      <td>0.000000</td>\n",
       "      <td>0.000000</td>\n",
       "      <td>0.000000</td>\n",
       "      <td>0.000000</td>\n",
       "      <td>0.000000</td>\n",
       "      <td>0.0000</td>\n",
       "      <td>...</td>\n",
       "      <td>0.000000</td>\n",
       "      <td>0.000000</td>\n",
       "      <td>0.000000</td>\n",
       "      <td>0.000000</td>\n",
       "      <td>0.000000</td>\n",
       "      <td>0.000000</td>\n",
       "      <td>0.000000</td>\n",
       "      <td>0.000000</td>\n",
       "      <td>0.000000</td>\n",
       "      <td>423</td>\n",
       "    </tr>\n",
       "    <tr>\n",
       "      <th>1</th>\n",
       "      <td>-0.009285</td>\n",
       "      <td>-0.026297</td>\n",
       "      <td>0.184465</td>\n",
       "      <td>0.226005</td>\n",
       "      <td>0.286965</td>\n",
       "      <td>0.089765</td>\n",
       "      <td>-0.128705</td>\n",
       "      <td>0.118690</td>\n",
       "      <td>0.148295</td>\n",
       "      <td>0.6283</td>\n",
       "      <td>...</td>\n",
       "      <td>-0.031903</td>\n",
       "      <td>-0.013978</td>\n",
       "      <td>-0.137255</td>\n",
       "      <td>-0.130880</td>\n",
       "      <td>-0.060150</td>\n",
       "      <td>0.080650</td>\n",
       "      <td>-0.150830</td>\n",
       "      <td>-0.318365</td>\n",
       "      <td>-0.059330</td>\n",
       "      <td>337</td>\n",
       "    </tr>\n",
       "    <tr>\n",
       "      <th>2</th>\n",
       "      <td>0.018670</td>\n",
       "      <td>0.000510</td>\n",
       "      <td>0.056250</td>\n",
       "      <td>-0.174205</td>\n",
       "      <td>-0.061360</td>\n",
       "      <td>0.040333</td>\n",
       "      <td>0.246610</td>\n",
       "      <td>0.037849</td>\n",
       "      <td>0.240455</td>\n",
       "      <td>1.3368</td>\n",
       "      <td>...</td>\n",
       "      <td>0.120200</td>\n",
       "      <td>-0.032175</td>\n",
       "      <td>0.217665</td>\n",
       "      <td>-0.014963</td>\n",
       "      <td>0.099185</td>\n",
       "      <td>-0.123890</td>\n",
       "      <td>-0.123575</td>\n",
       "      <td>-0.201010</td>\n",
       "      <td>0.247395</td>\n",
       "      <td>94</td>\n",
       "    </tr>\n",
       "    <tr>\n",
       "      <th>3</th>\n",
       "      <td>0.096470</td>\n",
       "      <td>-0.160055</td>\n",
       "      <td>-0.050485</td>\n",
       "      <td>0.173440</td>\n",
       "      <td>-0.191495</td>\n",
       "      <td>-0.060280</td>\n",
       "      <td>0.174380</td>\n",
       "      <td>0.118460</td>\n",
       "      <td>0.134080</td>\n",
       "      <td>0.7060</td>\n",
       "      <td>...</td>\n",
       "      <td>0.079375</td>\n",
       "      <td>-0.097545</td>\n",
       "      <td>0.244705</td>\n",
       "      <td>0.008420</td>\n",
       "      <td>-0.194130</td>\n",
       "      <td>0.190825</td>\n",
       "      <td>-0.146170</td>\n",
       "      <td>-0.072850</td>\n",
       "      <td>0.228755</td>\n",
       "      <td>563</td>\n",
       "    </tr>\n",
       "    <tr>\n",
       "      <th>4</th>\n",
       "      <td>0.545820</td>\n",
       "      <td>0.995280</td>\n",
       "      <td>1.063100</td>\n",
       "      <td>-0.262200</td>\n",
       "      <td>0.279550</td>\n",
       "      <td>0.331600</td>\n",
       "      <td>-0.670710</td>\n",
       "      <td>0.246380</td>\n",
       "      <td>0.000949</td>\n",
       "      <td>0.5215</td>\n",
       "      <td>...</td>\n",
       "      <td>-0.172190</td>\n",
       "      <td>-0.383640</td>\n",
       "      <td>-0.084950</td>\n",
       "      <td>-0.476470</td>\n",
       "      <td>-0.190730</td>\n",
       "      <td>0.122760</td>\n",
       "      <td>0.777880</td>\n",
       "      <td>-0.152580</td>\n",
       "      <td>0.322490</td>\n",
       "      <td>155</td>\n",
       "    </tr>\n",
       "  </tbody>\n",
       "</table>\n",
       "<p>5 rows × 301 columns</p>\n",
       "</div>"
      ],
      "text/plain": [
       "       col0      col1      col2      col3      col4      col5      col6  \\\n",
       "0  0.000000  0.000000  0.000000  0.000000  0.000000  0.000000  0.000000   \n",
       "1 -0.009285 -0.026297  0.184465  0.226005  0.286965  0.089765 -0.128705   \n",
       "2  0.018670  0.000510  0.056250 -0.174205 -0.061360  0.040333  0.246610   \n",
       "3  0.096470 -0.160055 -0.050485  0.173440 -0.191495 -0.060280  0.174380   \n",
       "4  0.545820  0.995280  1.063100 -0.262200  0.279550  0.331600 -0.670710   \n",
       "\n",
       "       col7      col8    col9  ...    col291    col292    col293    col294  \\\n",
       "0  0.000000  0.000000  0.0000  ...  0.000000  0.000000  0.000000  0.000000   \n",
       "1  0.118690  0.148295  0.6283  ... -0.031903 -0.013978 -0.137255 -0.130880   \n",
       "2  0.037849  0.240455  1.3368  ...  0.120200 -0.032175  0.217665 -0.014963   \n",
       "3  0.118460  0.134080  0.7060  ...  0.079375 -0.097545  0.244705  0.008420   \n",
       "4  0.246380  0.000949  0.5215  ... -0.172190 -0.383640 -0.084950 -0.476470   \n",
       "\n",
       "     col295    col296    col297    col298    col299  label  \n",
       "0  0.000000  0.000000  0.000000  0.000000  0.000000    423  \n",
       "1 -0.060150  0.080650 -0.150830 -0.318365 -0.059330    337  \n",
       "2  0.099185 -0.123890 -0.123575 -0.201010  0.247395     94  \n",
       "3 -0.194130  0.190825 -0.146170 -0.072850  0.228755    563  \n",
       "4 -0.190730  0.122760  0.777880 -0.152580  0.322490    155  \n",
       "\n",
       "[5 rows x 301 columns]"
      ]
     },
     "execution_count": 50,
     "metadata": {},
     "output_type": "execute_result"
    }
   ],
   "source": [
    "df_skill.head()"
   ]
  },
  {
   "cell_type": "markdown",
   "id": "62d89da2",
   "metadata": {},
   "source": [
    "### Feature Reduction using PCA"
   ]
  },
  {
   "cell_type": "code",
   "execution_count": 72,
   "id": "8d4c9a38",
   "metadata": {},
   "outputs": [],
   "source": [
    "pca = PCA(n_components=300)\n",
    "_=pca.fit_transform(df_skill.drop('label',axis=1))"
   ]
  },
  {
   "cell_type": "code",
   "execution_count": 73,
   "id": "4410c2fe",
   "metadata": {},
   "outputs": [],
   "source": [
    "retention_value = pca.explained_variance_ / np.sum(pca.explained_variance_)\n",
    "cumulative_retention = np.cumsum(retention_value)"
   ]
  },
  {
   "cell_type": "code",
   "execution_count": 74,
   "id": "d11949f0",
   "metadata": {},
   "outputs": [
    {
     "data": {
      "text/plain": [
       "Text(0, 0.5, 'Retention value on scale of 1')"
      ]
     },
     "execution_count": 74,
     "metadata": {},
     "output_type": "execute_result"
    },
    {
     "data": {
      "image/png": "[encoded data removed]",
      "text/plain": [
       "<Figure size 432x288 with 1 Axes>"
      ]
     },
     "metadata": {
      "needs_background": "light"
     },
     "output_type": "display_data"
    }
   ],
   "source": [
    "plt.plot(cumulative_retention)\n",
    "plt.grid()\n",
    "plt.xlabel('n_components')\n",
    "plt.ylabel('Retention value on scale of 1')"
   ]
  },
  {
   "cell_type": "code",
   "execution_count": 76,
   "id": "339e038d",
   "metadata": {},
   "outputs": [],
   "source": [
    "pca = PCA(n_components=250)\n",
    "X = pca.fit_transform(df_skill.drop('label',axis=1))"
   ]
  },
  {
   "cell_type": "code",
   "execution_count": 77,
   "id": "4e526901",
   "metadata": {},
   "outputs": [],
   "source": [
    "y = df_skill['label'].values"
   ]
  },
  {
   "cell_type": "code",
   "execution_count": 79,
   "id": "4c3d54a5",
   "metadata": {},
   "outputs": [
    {
     "data": {
      "text/plain": [
       "RandomForestClassifier()"
      ]
     },
     "execution_count": 79,
     "metadata": {},
     "output_type": "execute_result"
    }
   ],
   "source": [
    "clf=RandomForestClassifier()\n",
    "clf.fit(X,y)"
   ]
  },
  {
   "cell_type": "code",
   "execution_count": 89,
   "id": "1c41db72",
   "metadata": {},
   "outputs": [],
   "source": [
    "y_predict = clf.predict(X)"
   ]
  },
  {
   "cell_type": "code",
   "execution_count": 104,
   "id": "79e39300",
   "metadata": {},
   "outputs": [
    {
     "name": "stdout",
     "output_type": "stream",
     "text": [
      "Accuracy:  0.8212806626314113\n"
     ]
    }
   ],
   "source": [
    "print('Accuracy: ',accuracy_score(y,y_predict))"
   ]
  },
  {
   "cell_type": "markdown",
   "id": "4cdb983f",
   "metadata": {},
   "source": [
    "### Recommend"
   ]
  },
  {
   "cell_type": "code",
   "execution_count": 161,
   "id": "9738bd4f",
   "metadata": {},
   "outputs": [],
   "source": [
    "val = 'java'\n",
    "word_vec = word_embedding(val).vector"
   ]
  },
  {
   "cell_type": "code",
   "execution_count": 162,
   "id": "f3c3a460",
   "metadata": {},
   "outputs": [],
   "source": [
    "word_df = pd.DataFrame([list(word_vec)])"
   ]
  },
  {
   "cell_type": "code",
   "execution_count": 163,
   "id": "12c51c51",
   "metadata": {},
   "outputs": [
    {
     "data": {
      "text/plain": [
       "['Back-End', 'Hibernate', 'J2Ee', 'Java', 'Spring Boot']"
      ]
     },
     "execution_count": 163,
     "metadata": {},
     "output_type": "execute_result"
    }
   ],
   "source": [
    "data.query('label == {}'.format(clf.predict(pca.transform(word_df))))['skill'].to_list()"
   ]
  },
  {
   "cell_type": "code",
   "execution_count": null,
   "id": "06d47821",
   "metadata": {},
   "outputs": [],
   "source": []
  }
 ],
 "metadata": {
  "kernelspec": {
   "display_name": "Python 3",
   "language": "python",
   "name": "python3"
  },
  "language_info": {
   "codemirror_mode": {
    "name": "ipython",
    "version": 3
   },
   "file_extension": ".py",
   "mimetype": "text/x-python",
   "name": "python",
   "nbconvert_exporter": "python",
   "pygments_lexer": "ipython3",
   "version": "3.8.5"
  }
 },
 "nbformat": 4,
 "nbformat_minor": 5
}
