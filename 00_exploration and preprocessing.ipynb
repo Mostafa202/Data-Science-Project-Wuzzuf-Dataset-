{
 "cells": [
  {
   "cell_type": "code",
   "execution_count": 177,
   "id": "205150af",
   "metadata": {},
   "outputs": [],
   "source": [
    "#import libraries\n",
    "import numpy as np\n",
    "import pandas as pd\n",
    "import matplotlib.pyplot as plt\n",
    "import pickle\n",
    "import re\n",
    "pd.options.display.max_rows = 100\n",
    "pd.options.display.max_columns = 100"
   ]
  },
  {
   "cell_type": "markdown",
   "id": "59e72979",
   "metadata": {},
   "source": [
    "### Explore Dataset"
   ]
  },
  {
   "cell_type": "code",
   "execution_count": 178,
   "id": "287b2dcd",
   "metadata": {},
   "outputs": [],
   "source": [
    "#constants\n",
    "RAW_DATA_PATH = '../data/raw/Wuzzuf_Jobs.csv'\n",
    "PREPROCESSED_DATA_PATH = '../data/processed/preprocessed_data.pkl'\n",
    "\n",
    "#abbreviations\n",
    "ABBR_DICT = {'Jr':'Junior','Sr':'Sunior','VC':'Vice','QC':'Quality Control','HR':'Human Resources',\n",
    "             'BI':'Business Intelligence','UI':'User Interface','UX':'User Experience'}\n"
   ]
  },
  {
   "cell_type": "code",
   "execution_count": 179,
   "id": "5e49cddb",
   "metadata": {},
   "outputs": [],
   "source": [
    "dataset = pd.read_csv('../data/raw/Wuzzuf_Jobs.csv')"
   ]
  },
  {
   "cell_type": "code",
   "execution_count": 180,
   "id": "8dda5275",
   "metadata": {},
   "outputs": [
    {
     "data": {
      "text/html": [
       "<div>\n",
       "<style scoped>\n",
       "    .dataframe tbody tr th:only-of-type {\n",
       "        vertical-align: middle;\n",
       "    }\n",
       "\n",
       "    .dataframe tbody tr th {\n",
       "        vertical-align: top;\n",
       "    }\n",
       "\n",
       "    .dataframe thead th {\n",
       "        text-align: right;\n",
       "    }\n",
       "</style>\n",
       "<table border=\"1\" class=\"dataframe\">\n",
       "  <thead>\n",
       "    <tr style=\"text-align: right;\">\n",
       "      <th></th>\n",
       "      <th>Title</th>\n",
       "      <th>Company</th>\n",
       "      <th>Location</th>\n",
       "      <th>Type</th>\n",
       "      <th>Level</th>\n",
       "      <th>YearsExp</th>\n",
       "      <th>Country</th>\n",
       "      <th>Skills</th>\n",
       "    </tr>\n",
       "  </thead>\n",
       "  <tbody>\n",
       "    <tr>\n",
       "      <th>734</th>\n",
       "      <td>Assistant Branch Manager - Retail Store (Tanta)</td>\n",
       "      <td>QUATTRO</td>\n",
       "      <td>Tanta</td>\n",
       "      <td>Full Time</td>\n",
       "      <td>Experienced</td>\n",
       "      <td>3-5 Yrs of Exp</td>\n",
       "      <td>Gharbia</td>\n",
       "      <td>Sales Target, Customer Service, Retail, Custom...</td>\n",
       "    </tr>\n",
       "    <tr>\n",
       "      <th>1526</th>\n",
       "      <td>HR Section Head</td>\n",
       "      <td>Confidential</td>\n",
       "      <td>Maadi</td>\n",
       "      <td>Full Time</td>\n",
       "      <td>Manager</td>\n",
       "      <td>5+ Yrs of Exp</td>\n",
       "      <td>Cairo</td>\n",
       "      <td>HR, Recruitment, Personnel, Medical, Pharmacy,...</td>\n",
       "    </tr>\n",
       "    <tr>\n",
       "      <th>1093</th>\n",
       "      <td>Costing &amp; Budgeting Section Head</td>\n",
       "      <td>Confidential</td>\n",
       "      <td>Ataqah</td>\n",
       "      <td>Full Time</td>\n",
       "      <td>Manager</td>\n",
       "      <td>7-10 Yrs of Exp</td>\n",
       "      <td>Suez</td>\n",
       "      <td>Accounting, Costing, Manufacturing, Financial ...</td>\n",
       "    </tr>\n",
       "    <tr>\n",
       "      <th>2519</th>\n",
       "      <td>Automotive CRM Manager</td>\n",
       "      <td>Kayan Egypt for Trading &amp; Investment</td>\n",
       "      <td>Katameya</td>\n",
       "      <td>Full Time</td>\n",
       "      <td>Manager</td>\n",
       "      <td>5-7 Yrs of Exp</td>\n",
       "      <td>Cairo</td>\n",
       "      <td>Customer Service, Automotive, Business Adminis...</td>\n",
       "    </tr>\n",
       "    <tr>\n",
       "      <th>92</th>\n",
       "      <td>Logistics Supervisor</td>\n",
       "      <td>wnpro</td>\n",
       "      <td>Cairo</td>\n",
       "      <td>Full Time</td>\n",
       "      <td>Manager</td>\n",
       "      <td>5+ Yrs of Exp</td>\n",
       "      <td>Egypt</td>\n",
       "      <td>Supply Chain, Warehousing, Operations, Logisti...</td>\n",
       "    </tr>\n",
       "    <tr>\n",
       "      <th>2880</th>\n",
       "      <td>Indoor Sales Representative</td>\n",
       "      <td>American Egypt Investment Company AEIC</td>\n",
       "      <td>Katameya</td>\n",
       "      <td>Full Time</td>\n",
       "      <td>Entry Level</td>\n",
       "      <td>1+ Yrs of Exp</td>\n",
       "      <td>Cairo</td>\n",
       "      <td>Females Only, Sales Skills, Sales Indoor, Cust...</td>\n",
       "    </tr>\n",
       "    <tr>\n",
       "      <th>875</th>\n",
       "      <td>Sales Representative Indoor/Outdoor</td>\n",
       "      <td>Safety Pro</td>\n",
       "      <td>Mokattam</td>\n",
       "      <td>Full Time</td>\n",
       "      <td>Experienced</td>\n",
       "      <td>3-5 Yrs of Exp</td>\n",
       "      <td>Cairo</td>\n",
       "      <td>Outdoor Sales, Sales Skills, Indoor Sales, Com...</td>\n",
       "    </tr>\n",
       "    <tr>\n",
       "      <th>101</th>\n",
       "      <td>Accounting Manager</td>\n",
       "      <td>wnpro</td>\n",
       "      <td>Mohandessin</td>\n",
       "      <td>Full Time</td>\n",
       "      <td>Manager</td>\n",
       "      <td>5+ Yrs of Exp</td>\n",
       "      <td>Giza</td>\n",
       "      <td>Finance, Financial Management, Financial Analy...</td>\n",
       "    </tr>\n",
       "    <tr>\n",
       "      <th>2196</th>\n",
       "      <td>HR Generalist</td>\n",
       "      <td>AMACO</td>\n",
       "      <td>6th of October</td>\n",
       "      <td>Full Time</td>\n",
       "      <td>Experienced</td>\n",
       "      <td>3-7 Yrs of Exp</td>\n",
       "      <td>Giza</td>\n",
       "      <td>Human Resources (HR), HR, Hiring, Contracts, H...</td>\n",
       "    </tr>\n",
       "    <tr>\n",
       "      <th>4082</th>\n",
       "      <td>Purchasing And Logistics Specialist</td>\n",
       "      <td>Life Trading</td>\n",
       "      <td>Giza</td>\n",
       "      <td>Full Time</td>\n",
       "      <td>Experienced</td>\n",
       "      <td>5-10 Yrs of Exp</td>\n",
       "      <td>Egypt</td>\n",
       "      <td>Purchasing, Logistics, Procurement, CKD, Impor...</td>\n",
       "    </tr>\n",
       "  </tbody>\n",
       "</table>\n",
       "</div>"
      ],
      "text/plain": [
       "                                                Title  \\\n",
       "734   Assistant Branch Manager - Retail Store (Tanta)   \n",
       "1526                                  HR Section Head   \n",
       "1093                 Costing & Budgeting Section Head   \n",
       "2519                           Automotive CRM Manager   \n",
       "92                               Logistics Supervisor   \n",
       "2880                      Indoor Sales Representative   \n",
       "875               Sales Representative Indoor/Outdoor   \n",
       "101                                Accounting Manager   \n",
       "2196                                    HR Generalist   \n",
       "4082              Purchasing And Logistics Specialist   \n",
       "\n",
       "                                     Company         Location       Type  \\\n",
       "734                                  QUATTRO            Tanta  Full Time   \n",
       "1526                            Confidential            Maadi  Full Time   \n",
       "1093                            Confidential           Ataqah  Full Time   \n",
       "2519    Kayan Egypt for Trading & Investment         Katameya  Full Time   \n",
       "92                                     wnpro            Cairo  Full Time   \n",
       "2880  American Egypt Investment Company AEIC         Katameya  Full Time   \n",
       "875                               Safety Pro         Mokattam  Full Time   \n",
       "101                                    wnpro      Mohandessin  Full Time   \n",
       "2196                                   AMACO   6th of October  Full Time   \n",
       "4082                            Life Trading             Giza  Full Time   \n",
       "\n",
       "            Level         YearsExp  Country  \\\n",
       "734   Experienced   3-5 Yrs of Exp  Gharbia   \n",
       "1526      Manager    5+ Yrs of Exp    Cairo   \n",
       "1093      Manager  7-10 Yrs of Exp     Suez   \n",
       "2519      Manager   5-7 Yrs of Exp    Cairo   \n",
       "92        Manager    5+ Yrs of Exp    Egypt   \n",
       "2880  Entry Level    1+ Yrs of Exp    Cairo   \n",
       "875   Experienced   3-5 Yrs of Exp    Cairo   \n",
       "101       Manager    5+ Yrs of Exp     Giza   \n",
       "2196  Experienced   3-7 Yrs of Exp     Giza   \n",
       "4082  Experienced  5-10 Yrs of Exp    Egypt   \n",
       "\n",
       "                                                 Skills  \n",
       "734   Sales Target, Customer Service, Retail, Custom...  \n",
       "1526  HR, Recruitment, Personnel, Medical, Pharmacy,...  \n",
       "1093  Accounting, Costing, Manufacturing, Financial ...  \n",
       "2519  Customer Service, Automotive, Business Adminis...  \n",
       "92    Supply Chain, Warehousing, Operations, Logisti...  \n",
       "2880  Females Only, Sales Skills, Sales Indoor, Cust...  \n",
       "875   Outdoor Sales, Sales Skills, Indoor Sales, Com...  \n",
       "101   Finance, Financial Management, Financial Analy...  \n",
       "2196  Human Resources (HR), HR, Hiring, Contracts, H...  \n",
       "4082  Purchasing, Logistics, Procurement, CKD, Impor...  "
      ]
     },
     "execution_count": 180,
     "metadata": {},
     "output_type": "execute_result"
    }
   ],
   "source": [
    "dataset.sample(10)"
   ]
  },
  {
   "cell_type": "code",
   "execution_count": 181,
   "id": "23d1fbd8",
   "metadata": {},
   "outputs": [
    {
     "data": {
      "text/plain": [
       "1270                              Indoor Sales Specialist\n",
       "3718                         Digital Marketing Specialist\n",
       "976                   Senior Full Stack / DevOps Engineer\n",
       "196                                   Procurement Manager\n",
       "3261                           Technical Support Engineer\n",
       "208     Mobile Repair Engineer - Beni Suef - (Males Only)\n",
       "1561                         Customer Service Coordinator\n",
       "4017                                        IT Specialist\n",
       "3030                                     Mobile Developer\n",
       "3312                       Full-Stack WordPress Developer\n",
       "1810                    B2B Software Sales Representative\n",
       "3498                       Mechanical Production Engineer\n",
       "567                                      Graphic Designer\n",
       "1211                      Presentation & Graphic Designer\n",
       "2197                                           SEO Intern\n",
       "4300                       Junior Software Engineer (SDE)\n",
       "1619                                 Sales Representative\n",
       "3768                                   Operations Manager\n",
       "978                                     Logistics Officer\n",
       "857                             Software Business Analyst\n",
       "2815                         Secretary/Personal Assistant\n",
       "3465                              CEO Executive Assistant\n",
       "3528                                     Chief Accountant\n",
       "1898                    UX/UI Department Head - New Cairo\n",
       "3900                                         HR Recruiter\n",
       "1256                                Logistics Coordinator\n",
       "3663                      Online B2B Sales Representative\n",
       "937                 Reservation Agent - Religious Tourism\n",
       "2675                                    Back Office Agent\n",
       "1457                      Corporate Sales Account Manager\n",
       "2145                            Digital Marketing Manager\n",
       "1712                           Senior Front End Developer\n",
       "535                                            HR Manager\n",
       "358                           Foreign Purchasing Engineer\n",
       "2119                     Office Administration Supervisor\n",
       "3340                       Accounts Receivable Accountant\n",
       "3377                                         Testing Lead\n",
       "3512                                      Project Manager\n",
       "2012               Electrical Engineer (Technical Office)\n",
       "1583                         Motion Graphic & 2D Designer\n",
       "2605                           Call Center Representative\n",
       "2290                                       Arabic Teacher\n",
       "76                                           Psychologist\n",
       "1169                                 Supply Chain Manager\n",
       "1482                                 Senior IOS Developer\n",
       "2716                             Warehouse Keeper - Rehab\n",
       "1487                              IT Help Desk Specialist\n",
       "1259                                  Executive Secretary\n",
       "1761                  Stock Control Manager - Warehousing\n",
       "2893                                          Sales Agent\n",
       "4079                      IT Technical Support Specialist\n",
       "1818                                 Full Stack Developer\n",
       "115                                   Batch Plant Manager\n",
       "2615                                  Technical Team Lead\n",
       "1755               Project Coordinator - Technical Office\n",
       "3119                               Senior Software Tester\n",
       "2186                         Technical Support Specialist\n",
       "1040                                    Flutter Developer\n",
       "2144                          Customer Service Supervisor\n",
       "4108        Telemarketer/Customer Service Agent - English\n",
       "4107                                           Accountant\n",
       "1291                   Software Quality Assurance Manager\n",
       "3370                                  Junior Cost Manager\n",
       "1914                             German Teacher - Tunisia\n",
       "2196                                        HR Generalist\n",
       "3586                   PHP Laravel - Full Stack Developer\n",
       "4266                              Creative Content Writer\n",
       "4163    Indoor Sales Consultant For International Markets\n",
       "2588                            UX Designer And Wordpress\n",
       "2083             ERP Functional Support Specialist (Odoo)\n",
       "2872                             Graphic Designer - Cairo\n",
       "2291                  Video Editor & Animator - New Cairo\n",
       "1574                                    Telesales Manager\n",
       "703      Digital Marketing Specialist - Remotely -Part...\n",
       "163                                    CEO Office Manager\n",
       "2303             Export Sales Account Manager – Gulf Area\n",
       "2838                                      Telesales Agent\n",
       "1532                              Asterisk SIP Consultant\n",
       "1677                        Solar Energy Systems Engineer\n",
       "3737                                      Telesales Agent\n",
       "1790                             Graphic Designer - Cairo\n",
       "618                                  Social Media Manager\n",
       "3748                             Senior Planning Engineer\n",
       "3859                      Office Manager - French Speaker\n",
       "546                             Junior Geomatics Engineer\n",
       "2185                              Senior Graphic Designer\n",
       "4259                  Customer Service Operations Manager\n",
       "2622                                     IT Administrator\n",
       "4066                       Project Manager (Agricultural)\n",
       "1233                                         Data Analyst\n",
       "1945                                   Content Specialist\n",
       "1822                         Digital Marketing Specialist\n",
       "1422                        Senior .NET Developer - Cairo\n",
       "2954                                    Community Manager\n",
       "875                   Sales Representative Indoor/Outdoor\n",
       "3786                                         MEP Engineer\n",
       "2315                         Researcher - Turkish Speaker\n",
       "3245         Node.js / React / Next.js & Liquid Developer\n",
       "3825        SDA Product Manager (Home Appliance Industry)\n",
       "825                                       Account Manager\n",
       "Name: Title, dtype: object"
      ]
     },
     "execution_count": 181,
     "metadata": {},
     "output_type": "execute_result"
    }
   ],
   "source": [
    "dataset['Title'].sample(100)"
   ]
  },
  {
   "cell_type": "markdown",
   "id": "e6ae3148",
   "metadata": {},
   "source": [
    "* There are arabic titles"
   ]
  },
  {
   "cell_type": "code",
   "execution_count": 182,
   "id": "d8212696",
   "metadata": {},
   "outputs": [
    {
     "data": {
      "text/plain": [
       "4221      5-6 Yrs of Exp\n",
       "3381      2-4 Yrs of Exp\n",
       "4127      0-1 Yrs of Exp\n",
       "2635      1-3 Yrs of Exp\n",
       "1007      10+ Yrs of Exp\n",
       "1834      1-4 Yrs of Exp\n",
       "426       2-3 Yrs of Exp\n",
       "1460       8+ Yrs of Exp\n",
       "724       2-5 Yrs of Exp\n",
       "4296       1+ Yrs of Exp\n",
       "2719       5+ Yrs of Exp\n",
       "38        0-3 Yrs of Exp\n",
       "2956      3-5 Yrs of Exp\n",
       "2281       3+ Yrs of Exp\n",
       "4050      5-7 Yrs of Exp\n",
       "2033      2-4 Yrs of Exp\n",
       "2374      2-5 Yrs of Exp\n",
       "932       0-2 Yrs of Exp\n",
       "3738       2+ Yrs of Exp\n",
       "2862      2-5 Yrs of Exp\n",
       "3382      2-4 Yrs of Exp\n",
       "1066       5+ Yrs of Exp\n",
       "2132    10-15 Yrs of Exp\n",
       "2785     7-10 Yrs of Exp\n",
       "1327      1-3 Yrs of Exp\n",
       "588     15-20 Yrs of Exp\n",
       "3298      0-3 Yrs of Exp\n",
       "431        1+ Yrs of Exp\n",
       "2214      1-2 Yrs of Exp\n",
       "1888      4-7 Yrs of Exp\n",
       "420     10-16 Yrs of Exp\n",
       "4123      3-5 Yrs of Exp\n",
       "3355       5+ Yrs of Exp\n",
       "204        3+ Yrs of Exp\n",
       "1049      3-5 Yrs of Exp\n",
       "1773       3+ Yrs of Exp\n",
       "1895     null Yrs of Exp\n",
       "86        2-6 Yrs of Exp\n",
       "3161      1-3 Yrs of Exp\n",
       "3514       1+ Yrs of Exp\n",
       "1748     8-12 Yrs of Exp\n",
       "1085      1-7 Yrs of Exp\n",
       "499       5-8 Yrs of Exp\n",
       "311       3-5 Yrs of Exp\n",
       "3583      2-4 Yrs of Exp\n",
       "114       3-8 Yrs of Exp\n",
       "2170      1-2 Yrs of Exp\n",
       "469        3+ Yrs of Exp\n",
       "3415     9-10 Yrs of Exp\n",
       "2698      1-3 Yrs of Exp\n",
       "2241      1-3 Yrs of Exp\n",
       "3036       5+ Yrs of Exp\n",
       "1425       2+ Yrs of Exp\n",
       "2621      2-4 Yrs of Exp\n",
       "2952      4-6 Yrs of Exp\n",
       "3281      3-6 Yrs of Exp\n",
       "3498       5+ Yrs of Exp\n",
       "2767      4-6 Yrs of Exp\n",
       "1095      4-7 Yrs of Exp\n",
       "2532      3-5 Yrs of Exp\n",
       "383       3-4 Yrs of Exp\n",
       "1556      1-4 Yrs of Exp\n",
       "1779      2-3 Yrs of Exp\n",
       "118       3-5 Yrs of Exp\n",
       "1944      1-3 Yrs of Exp\n",
       "346       0-1 Yrs of Exp\n",
       "2822      1-3 Yrs of Exp\n",
       "3879      1-3 Yrs of Exp\n",
       "3044     8-15 Yrs of Exp\n",
       "1896       4+ Yrs of Exp\n",
       "1133      2-4 Yrs of Exp\n",
       "3806     8-10 Yrs of Exp\n",
       "2199      2-3 Yrs of Exp\n",
       "942       2-3 Yrs of Exp\n",
       "1001     8-10 Yrs of Exp\n",
       "1847      2-4 Yrs of Exp\n",
       "2711      1-2 Yrs of Exp\n",
       "1543      3-8 Yrs of Exp\n",
       "2359      5-9 Yrs of Exp\n",
       "1749      3-5 Yrs of Exp\n",
       "3427      15+ Yrs of Exp\n",
       "3520     5-15 Yrs of Exp\n",
       "1324       3+ Yrs of Exp\n",
       "3575      4-5 Yrs of Exp\n",
       "1319      4-8 Yrs of Exp\n",
       "3356      0-2 Yrs of Exp\n",
       "1608       2+ Yrs of Exp\n",
       "468       3-5 Yrs of Exp\n",
       "4143       2+ Yrs of Exp\n",
       "3477       4+ Yrs of Exp\n",
       "2312      3-5 Yrs of Exp\n",
       "2208       1+ Yrs of Exp\n",
       "3474       2+ Yrs of Exp\n",
       "2064      3-8 Yrs of Exp\n",
       "2273      3-7 Yrs of Exp\n",
       "3196    10-13 Yrs of Exp\n",
       "225     10-12 Yrs of Exp\n",
       "2469     5-10 Yrs of Exp\n",
       "602       1-3 Yrs of Exp\n",
       "1845       3+ Yrs of Exp\n",
       "Name: YearsExp, dtype: object"
      ]
     },
     "execution_count": 182,
     "metadata": {},
     "output_type": "execute_result"
    }
   ],
   "source": [
    "dataset['YearsExp'].sample(100)"
   ]
  },
  {
   "cell_type": "markdown",
   "id": "c05ef1e4",
   "metadata": {},
   "source": [
    "* we notice there is null values as string"
   ]
  },
  {
   "cell_type": "code",
   "execution_count": 183,
   "id": "88dc25eb",
   "metadata": {},
   "outputs": [
    {
     "data": {
      "text/plain": [
       "111     Sales Target, Furniture Sales, Furniture Desig...\n",
       "1368    Sales Skills, Sales Target, Tarining Services,...\n",
       "3358    Recruitment, Microsoft Office, Communication S...\n",
       "1722    Finance, Accounting, Financial Management, Fin...\n",
       "257     Administration, English, Labor Law, Arabic, HR...\n",
       "1770    C++, Java, TCP/IP & Protocols, Unix, Informati...\n",
       "910     Quality Control, QC, Quality Assurance, QA, Co...\n",
       "521     Document Controller, English, Document Managem...\n",
       "3557    Customer Support, Customer Care, English, Micr...\n",
       "694     Social Media, Google Analytics, Google Adwords...\n",
       "Name: Skills, dtype: object"
      ]
     },
     "execution_count": 183,
     "metadata": {},
     "output_type": "execute_result"
    }
   ],
   "source": [
    "dataset['Skills'].sample(10)"
   ]
  },
  {
   "cell_type": "markdown",
   "id": "a23024c3",
   "metadata": {},
   "source": [
    "* skills are separated by comma delimiter"
   ]
  },
  {
   "cell_type": "code",
   "execution_count": 184,
   "id": "151c0185",
   "metadata": {},
   "outputs": [
    {
     "name": "stdout",
     "output_type": "stream",
     "text": [
      "<class 'pandas.core.frame.DataFrame'>\n",
      "RangeIndex: 4380 entries, 0 to 4379\n",
      "Data columns (total 8 columns):\n",
      " #   Column    Non-Null Count  Dtype \n",
      "---  ------    --------------  ----- \n",
      " 0   Title     4380 non-null   object\n",
      " 1   Company   4380 non-null   object\n",
      " 2   Location  4380 non-null   object\n",
      " 3   Type      4380 non-null   object\n",
      " 4   Level     4380 non-null   object\n",
      " 5   YearsExp  4380 non-null   object\n",
      " 6   Country   4380 non-null   object\n",
      " 7   Skills    4380 non-null   object\n",
      "dtypes: object(8)\n",
      "memory usage: 273.9+ KB\n"
     ]
    }
   ],
   "source": [
    "dataset.info()"
   ]
  },
  {
   "cell_type": "code",
   "execution_count": 185,
   "id": "4d92c0aa",
   "metadata": {},
   "outputs": [
    {
     "data": {
      "text/html": [
       "<div>\n",
       "<style scoped>\n",
       "    .dataframe tbody tr th:only-of-type {\n",
       "        vertical-align: middle;\n",
       "    }\n",
       "\n",
       "    .dataframe tbody tr th {\n",
       "        vertical-align: top;\n",
       "    }\n",
       "\n",
       "    .dataframe thead th {\n",
       "        text-align: right;\n",
       "    }\n",
       "</style>\n",
       "<table border=\"1\" class=\"dataframe\">\n",
       "  <thead>\n",
       "    <tr style=\"text-align: right;\">\n",
       "      <th></th>\n",
       "      <th>Title</th>\n",
       "      <th>Company</th>\n",
       "      <th>Location</th>\n",
       "      <th>Type</th>\n",
       "      <th>Level</th>\n",
       "      <th>YearsExp</th>\n",
       "      <th>Country</th>\n",
       "      <th>Skills</th>\n",
       "    </tr>\n",
       "  </thead>\n",
       "  <tbody>\n",
       "    <tr>\n",
       "      <th>count</th>\n",
       "      <td>4380</td>\n",
       "      <td>4380</td>\n",
       "      <td>4380</td>\n",
       "      <td>4380</td>\n",
       "      <td>4380</td>\n",
       "      <td>4380</td>\n",
       "      <td>4380</td>\n",
       "      <td>4380</td>\n",
       "    </tr>\n",
       "    <tr>\n",
       "      <th>unique</th>\n",
       "      <td>2965</td>\n",
       "      <td>1534</td>\n",
       "      <td>162</td>\n",
       "      <td>6</td>\n",
       "      <td>9</td>\n",
       "      <td>101</td>\n",
       "      <td>42</td>\n",
       "      <td>4227</td>\n",
       "    </tr>\n",
       "    <tr>\n",
       "      <th>top</th>\n",
       "      <td>Accountant</td>\n",
       "      <td>Confidential</td>\n",
       "      <td>Cairo</td>\n",
       "      <td>Full Time</td>\n",
       "      <td>Experienced</td>\n",
       "      <td>1-3 Yrs of Exp</td>\n",
       "      <td>Cairo</td>\n",
       "      <td>Corporate Sales, Real Estate, Advertising, Mar...</td>\n",
       "    </tr>\n",
       "    <tr>\n",
       "      <th>freq</th>\n",
       "      <td>57</td>\n",
       "      <td>590</td>\n",
       "      <td>563</td>\n",
       "      <td>4168</td>\n",
       "      <td>2198</td>\n",
       "      <td>414</td>\n",
       "      <td>2230</td>\n",
       "      <td>12</td>\n",
       "    </tr>\n",
       "  </tbody>\n",
       "</table>\n",
       "</div>"
      ],
      "text/plain": [
       "             Title       Company Location       Type        Level  \\\n",
       "count         4380          4380     4380       4380         4380   \n",
       "unique        2965          1534      162          6            9   \n",
       "top     Accountant  Confidential    Cairo  Full Time  Experienced   \n",
       "freq            57           590      563       4168         2198   \n",
       "\n",
       "              YearsExp Country  \\\n",
       "count             4380    4380   \n",
       "unique             101      42   \n",
       "top     1-3 Yrs of Exp   Cairo   \n",
       "freq               414    2230   \n",
       "\n",
       "                                                   Skills  \n",
       "count                                                4380  \n",
       "unique                                               4227  \n",
       "top     Corporate Sales, Real Estate, Advertising, Mar...  \n",
       "freq                                                   12  "
      ]
     },
     "execution_count": 185,
     "metadata": {},
     "output_type": "execute_result"
    }
   ],
   "source": [
    "dataset.describe()"
   ]
  },
  {
   "cell_type": "code",
   "execution_count": 186,
   "id": "d84b8bbb",
   "metadata": {},
   "outputs": [
    {
     "data": {
      "text/plain": [
       "(4380, 8)"
      ]
     },
     "execution_count": 186,
     "metadata": {},
     "output_type": "execute_result"
    }
   ],
   "source": [
    "#check for shape of dataset\n",
    "dataset.shape"
   ]
  },
  {
   "cell_type": "markdown",
   "id": "0ba397a3",
   "metadata": {},
   "source": [
    "====================================================================================="
   ]
  },
  {
   "cell_type": "markdown",
   "id": "c1acf1e8",
   "metadata": {},
   "source": [
    "### Preprocess Title"
   ]
  },
  {
   "cell_type": "code",
   "execution_count": 187,
   "id": "0cb63e85",
   "metadata": {},
   "outputs": [
    {
     "data": {
      "text/plain": [
       "'Furniture Painting Engineer - مهندس كيميائى...'"
      ]
     },
     "execution_count": 187,
     "metadata": {},
     "output_type": "execute_result"
    }
   ],
   "source": [
    "dataset['Title'].iloc[1930]"
   ]
  },
  {
   "cell_type": "code",
   "execution_count": 188,
   "id": "14d080ce",
   "metadata": {},
   "outputs": [
    {
     "data": {
      "text/plain": [
       "'Senior English Instructor (Nasr City Branch)'"
      ]
     },
     "execution_count": 188,
     "metadata": {},
     "output_type": "execute_result"
    }
   ],
   "source": [
    "dataset['Title'].iloc[1359]"
   ]
  },
  {
   "cell_type": "markdown",
   "id": "b64047f4",
   "metadata": {},
   "source": [
    "* we notice there is written in other languages in some titles\n",
    "* we notice that the location is repeated in some titles"
   ]
  },
  {
   "cell_type": "code",
   "execution_count": 189,
   "id": "39c444ae",
   "metadata": {},
   "outputs": [],
   "source": [
    "#function to filter and normalize words\n",
    "def filter_words(dataset,col_name):\n",
    "    \n",
    "    \"\"\"\n",
    "    function to remove words written in another language,location if exists and normalize words\n",
    "    Parameters:\n",
    "    * dataset (pd.DataFrame)\n",
    "    * col_name (String)\n",
    "     \n",
    "    Return (pd.Series)\n",
    "    \"\"\"\n",
    "    #remove other words -> remove more spaces -> trim -> remove location if exists\n",
    "    processed_dataSeries = []\n",
    "    data_series = dataset[col_name]\n",
    "    \n",
    "    #remove space in the beginning of location\n",
    "    location_series = dataset['Location'].apply(lambda x: x[1:])\n",
    "    \n",
    "    for index in range(len(dataset)):\n",
    "        text = re.sub('\\s+',' ',re.sub('[^a-zA-Z\\s]','',data_series[index]).strip())\n",
    "        first_part_location = text.find(location_series[index].split(' ')[0])\n",
    "        if first_part_location != -1:\n",
    "            text = text.replace(text[first_part_location-1:],'')\n",
    "            \n",
    "        processed_dataSeries.append(text)\n",
    "        \n",
    "    return pd.Series(processed_dataSeries)\n",
    "    "
   ]
  },
  {
   "cell_type": "code",
   "execution_count": 190,
   "id": "d467a72a",
   "metadata": {},
   "outputs": [
    {
     "data": {
      "text/plain": [
       "'Furniture Painting Engineer'"
      ]
     },
     "execution_count": 190,
     "metadata": {},
     "output_type": "execute_result"
    }
   ],
   "source": [
    "filter_words(dataset,'Title')[1930]"
   ]
  },
  {
   "cell_type": "code",
   "execution_count": 191,
   "id": "b1370572",
   "metadata": {},
   "outputs": [
    {
     "data": {
      "text/plain": [
       "'Senior English Instructor'"
      ]
     },
     "execution_count": 191,
     "metadata": {},
     "output_type": "execute_result"
    }
   ],
   "source": [
    "filter_words(dataset,'Title')[1359]"
   ]
  },
  {
   "cell_type": "code",
   "execution_count": 192,
   "id": "9244ef20",
   "metadata": {},
   "outputs": [],
   "source": [
    "dataset['Title'] = filter_words(dataset,'Title')"
   ]
  },
  {
   "cell_type": "code",
   "execution_count": 193,
   "id": "bd32c6e3",
   "metadata": {},
   "outputs": [
    {
     "data": {
      "text/html": [
       "<div>\n",
       "<style scoped>\n",
       "    .dataframe tbody tr th:only-of-type {\n",
       "        vertical-align: middle;\n",
       "    }\n",
       "\n",
       "    .dataframe tbody tr th {\n",
       "        vertical-align: top;\n",
       "    }\n",
       "\n",
       "    .dataframe thead th {\n",
       "        text-align: right;\n",
       "    }\n",
       "</style>\n",
       "<table border=\"1\" class=\"dataframe\">\n",
       "  <thead>\n",
       "    <tr style=\"text-align: right;\">\n",
       "      <th></th>\n",
       "      <th>Title</th>\n",
       "      <th>Company</th>\n",
       "      <th>Location</th>\n",
       "      <th>Type</th>\n",
       "      <th>Level</th>\n",
       "      <th>YearsExp</th>\n",
       "      <th>Country</th>\n",
       "      <th>Skills</th>\n",
       "    </tr>\n",
       "  </thead>\n",
       "  <tbody>\n",
       "    <tr>\n",
       "      <th>2438</th>\n",
       "      <td>Senior Java Developer</td>\n",
       "      <td>SmartTech Systems</td>\n",
       "      <td>Nasr City</td>\n",
       "      <td>Full Time</td>\n",
       "      <td>Experienced</td>\n",
       "      <td>4+ Yrs of Exp</td>\n",
       "      <td>Cairo</td>\n",
       "      <td>Java, Information Technology (IT), Software De...</td>\n",
       "    </tr>\n",
       "    <tr>\n",
       "      <th>1545</th>\n",
       "      <td>Senior Full Stack Java Developer AWS</td>\n",
       "      <td>Flairstech</td>\n",
       "      <td>Maadi</td>\n",
       "      <td>Full Time</td>\n",
       "      <td>Experienced</td>\n",
       "      <td>5+ Yrs of Exp</td>\n",
       "      <td>Cairo</td>\n",
       "      <td>Web, Software Development, Computer Science, I...</td>\n",
       "    </tr>\n",
       "    <tr>\n",
       "      <th>3162</th>\n",
       "      <td>Senior International Marketing Specialist</td>\n",
       "      <td>ITIDA</td>\n",
       "      <td>6th of October</td>\n",
       "      <td>Full Time</td>\n",
       "      <td>Experienced</td>\n",
       "      <td>3-5 Yrs of Exp</td>\n",
       "      <td>Giza</td>\n",
       "      <td>Digital Marketing, Business Administration, Re...</td>\n",
       "    </tr>\n",
       "    <tr>\n",
       "      <th>2076</th>\n",
       "      <td>Senior Media Buyer</td>\n",
       "      <td>Awamer Alshabaka _اوامر الشبكه</td>\n",
       "      <td>Nasr City</td>\n",
       "      <td>Full Time</td>\n",
       "      <td>Experienced</td>\n",
       "      <td>2-3 Yrs of Exp</td>\n",
       "      <td>Cairo</td>\n",
       "      <td>Digital Marketing, Campaigns, Google Ads, Snap...</td>\n",
       "    </tr>\n",
       "    <tr>\n",
       "      <th>4277</th>\n",
       "      <td>Senior Odoo Developer</td>\n",
       "      <td>MidEast Communication Systems</td>\n",
       "      <td>New Cairo</td>\n",
       "      <td>Full Time</td>\n",
       "      <td>Experienced</td>\n",
       "      <td>4-7 Yrs of Exp</td>\n",
       "      <td>Cairo</td>\n",
       "      <td>Information Technology (IT), Odoo Modules, Com...</td>\n",
       "    </tr>\n",
       "  </tbody>\n",
       "</table>\n",
       "</div>"
      ],
      "text/plain": [
       "                                          Title  \\\n",
       "2438                      Senior Java Developer   \n",
       "1545       Senior Full Stack Java Developer AWS   \n",
       "3162  Senior International Marketing Specialist   \n",
       "2076                         Senior Media Buyer   \n",
       "4277                      Senior Odoo Developer   \n",
       "\n",
       "                             Company         Location       Type        Level  \\\n",
       "2438               SmartTech Systems        Nasr City  Full Time  Experienced   \n",
       "1545                      Flairstech            Maadi  Full Time  Experienced   \n",
       "3162                           ITIDA   6th of October  Full Time  Experienced   \n",
       "2076  Awamer Alshabaka _اوامر الشبكه        Nasr City  Full Time  Experienced   \n",
       "4277   MidEast Communication Systems        New Cairo  Full Time  Experienced   \n",
       "\n",
       "            YearsExp Country  \\\n",
       "2438   4+ Yrs of Exp   Cairo   \n",
       "1545   5+ Yrs of Exp   Cairo   \n",
       "3162  3-5 Yrs of Exp    Giza   \n",
       "2076  2-3 Yrs of Exp   Cairo   \n",
       "4277  4-7 Yrs of Exp   Cairo   \n",
       "\n",
       "                                                 Skills  \n",
       "2438  Java, Information Technology (IT), Software De...  \n",
       "1545  Web, Software Development, Computer Science, I...  \n",
       "3162  Digital Marketing, Business Administration, Re...  \n",
       "2076  Digital Marketing, Campaigns, Google Ads, Snap...  \n",
       "4277  Information Technology (IT), Odoo Modules, Com...  "
      ]
     },
     "execution_count": 193,
     "metadata": {},
     "output_type": "execute_result"
    }
   ],
   "source": [
    "dataset[dataset['Title'].apply(lambda x: x.split(' ')[0]=='Senior')].sample(5)"
   ]
  },
  {
   "cell_type": "code",
   "execution_count": 194,
   "id": "2c06fb5b",
   "metadata": {},
   "outputs": [
    {
     "data": {
      "text/plain": [
       "array(['Sr JavaScript Developer',\n",
       "       'Co teacher Chemistry Secondary stage and High',\n",
       "       'IT Help Desk Specialist', 'IT Network Specialist', 'UI Developer',\n",
       "       'HR Admin Officer', 'RD Electrical Power Engineer',\n",
       "       'AX Dynamics Developer', 'HR Specialist', 'HR Intern',\n",
       "       'OD Specialist', 'IT Sales Specialist', 'IT Help Desk',\n",
       "       'QC Supervisor', 'IT Manager', 'IT Manager El Katib Hospital',\n",
       "       'HR Manager', 'AR Accountant', 'RD Mechanical Engineer',\n",
       "       'TV Presenter', 'HR Supervisor', 'HR Payroll Specialist',\n",
       "       'HC Admin Director', 'IT Microsoft System Administrator',\n",
       "       'IT Specialist Intern', 'UI UX Designer',\n",
       "       'IT Infrastructure Specialist', 'HR Director', 'IT Specialist',\n",
       "       'HR Generalist th of Ramadan City', 'IT Help Desk Officer',\n",
       "       'HR Generalist', 'UI DesignerDeveloper', 'BB Sales Executive',\n",
       "       'HR Screener', 'AX Project Manager', 'IT Administrator Freelance',\n",
       "       'HR Associate', 'IT Manager Acting Multinational',\n",
       "       'Sr ECommerce Operations Officer', 'IT Support Engineer',\n",
       "       'Sr iOS Developer', 'HR Administration UnPaid Internship',\n",
       "       'GL Accountant', 'IT System Administrator Minya',\n",
       "       'FB Procurement Manager IKEA Cairo Festival',\n",
       "       'HR And Admin Officer', 'OD Trainee',\n",
       "       'IT Service Desk Engineer Outsourcing', 'HR Coordinator',\n",
       "       'IT Specialist Fashion Retail', 'HR Generalist Fashion Retail',\n",
       "       'IT Team Leader', 'HR Coordinator Social Media Specialist',\n",
       "       'HR Section Head', 'VC Personal Assistant',\n",
       "       'IT Systems Administrator Supervisor', 'QC Document Controller',\n",
       "       'HR Executive Assistant', 'IT Field Support Coordinator Intern',\n",
       "       'Jr Business Development Specialist',\n",
       "       'HR Personnel Specialist th October', 'HR Personnel Specialist',\n",
       "       'HR Director World Class Manufacturer',\n",
       "       'HR Performance Appraisal Manager', 'Sr Civil Engineer',\n",
       "       'Sr Electrical Engineer', 'Sr Mechanical Engineer',\n",
       "       'IT ERP System Manager', 'BB Software Sales Representative',\n",
       "       'Sr Document Control', 'BI Analyst KSA',\n",
       "       'MS Dynamics AX Developer', 'IT System Analyst',\n",
       "       'IT Specialist Cairo', 'HR Admin Associate', 'HR Officer',\n",
       "       'Sr Operational Excellence Specialist', 'IT Help Desk Team leader',\n",
       "       'HR Recruitment Admin', 'TV Production Manager',\n",
       "       'Sr Business Developer', 'PR Marketing Manager',\n",
       "       'IT Help Desk Agent', 'Sr Lighting Sales Engineer',\n",
       "       'HR Specialist Personnel', 'IT System Administrator',\n",
       "       'HR Personnel Assistant Clerk', 'QC Engineer',\n",
       "       'QC Civil Engineer East Of AlOwainat Site', 'QC Engineer Resource',\n",
       "       'Sr HR Specialist', 'QC Software Testing Team Lead', 'QA Engineer',\n",
       "       'IT Technical Support Specialist', 'IT Help desk',\n",
       "       'UX Designer And Wordpress', 'UI Graphic Designer Intern',\n",
       "       'OR Head Nurse CSH', 'UI DeveloperDesigner', 'IT Administrator',\n",
       "       'IT System Specialist', 'HR OD Senior Specialist',\n",
       "       'PR Marketing Specialist', 'HR Assistant', 'UI Developer Designer',\n",
       "       'OD Supervisor', 'Sr Flutter Developer', 'Sr Graphic Designer',\n",
       "       'RD Methodology Specialist', 'HR Recruiter', 'Sr Content Creator',\n",
       "       'IT Infrastructure Engineer', 'UX Designer',\n",
       "       'UI UX Designer Intern Brazil', 'HR Advisor Generalist',\n",
       "       'IT Sales Engineer', 'HR Specialist Recruitment',\n",
       "       'BB SaaS Growth Hacker', 'RD Hardware Engineer', 'UI UX Developer',\n",
       "       'UC Senior Collaboration Engineer', 'IT HelpDesk',\n",
       "       'Sr Personnel Specialist', 'IT Technical Support Engineer',\n",
       "       'Sr Media Buyer Digital Campaign Manager',\n",
       "       'QA Automation Engineer', 'IT Hardware Networking Specialist',\n",
       "       'HR Business Partner', 'RD Stability Pharmacist Cairo',\n",
       "       'Sr Data Engineer ODI', 'HR Implementation Consultant',\n",
       "       'IT Corporate Sales Executive', 'QC MEP Engineer',\n",
       "       'QC Engineer Finishes', 'AV Projects Engineer',\n",
       "       'BB Sales Account Manager',\n",
       "       'Sr Mobile Software Developer React Native',\n",
       "       'IT D Technician Dental Company', 'HR Recruitment Specialist',\n",
       "       'IT System Operations Intern',\n",
       "       'IT Help Desk Engineer Nile Badrawi Hospital',\n",
       "       'IT Technical Support and Help Desk',\n",
       "       'HR Director Background Real Estate', 'AI PreSales Engineer',\n",
       "       'PR Sales Specialist', 'UI UX Designer Graphic Designer',\n",
       "       'HR Recruitment Specialist Construction', 'HR Admin',\n",
       "       'HR Specialist Alexandria', 'IT Help Desk Agent Sharqia',\n",
       "       'Sr Net Developer', 'IT Help Desk Supervisor'], dtype=object)"
      ]
     },
     "execution_count": 194,
     "metadata": {},
     "output_type": "execute_result"
    }
   ],
   "source": [
    "#check for abbreviations at the beginning\n",
    "dataset[dataset['Title'].apply(lambda x: len(x.split(' ')[0])==2)]['Title'].unique()"
   ]
  },
  {
   "cell_type": "markdown",
   "id": "8c4aa177",
   "metadata": {},
   "source": [
    "* we notice that there are abbreviations of some titles"
   ]
  },
  {
   "cell_type": "code",
   "execution_count": 195,
   "id": "27a4cdab",
   "metadata": {},
   "outputs": [
    {
     "data": {
      "text/html": [
       "<div>\n",
       "<style scoped>\n",
       "    .dataframe tbody tr th:only-of-type {\n",
       "        vertical-align: middle;\n",
       "    }\n",
       "\n",
       "    .dataframe tbody tr th {\n",
       "        vertical-align: top;\n",
       "    }\n",
       "\n",
       "    .dataframe thead th {\n",
       "        text-align: right;\n",
       "    }\n",
       "</style>\n",
       "<table border=\"1\" class=\"dataframe\">\n",
       "  <thead>\n",
       "    <tr style=\"text-align: right;\">\n",
       "      <th></th>\n",
       "      <th>Title</th>\n",
       "      <th>Company</th>\n",
       "      <th>Location</th>\n",
       "      <th>Type</th>\n",
       "      <th>Level</th>\n",
       "      <th>YearsExp</th>\n",
       "      <th>Country</th>\n",
       "      <th>Skills</th>\n",
       "    </tr>\n",
       "  </thead>\n",
       "  <tbody>\n",
       "    <tr>\n",
       "      <th>2808</th>\n",
       "      <td>Senior HR Specialist</td>\n",
       "      <td>Notion International School</td>\n",
       "      <td>Faisal</td>\n",
       "      <td>Full Time</td>\n",
       "      <td>Experienced</td>\n",
       "      <td>3-5 Yrs of Exp</td>\n",
       "      <td>Giza</td>\n",
       "      <td>Recruitment, Personnel, Labor Law, Training, H...</td>\n",
       "    </tr>\n",
       "  </tbody>\n",
       "</table>\n",
       "</div>"
      ],
      "text/plain": [
       "                     Title                      Company Location       Type  \\\n",
       "2808  Senior HR Specialist  Notion International School   Faisal  Full Time   \n",
       "\n",
       "            Level        YearsExp Country  \\\n",
       "2808  Experienced  3-5 Yrs of Exp    Giza   \n",
       "\n",
       "                                                 Skills  \n",
       "2808  Recruitment, Personnel, Labor Law, Training, H...  "
      ]
     },
     "execution_count": 195,
     "metadata": {},
     "output_type": "execute_result"
    }
   ],
   "source": [
    "#check for abbreviations in the middle\n",
    "dataset[dataset['Title'].apply(lambda x: ABBR_DICT.get(x.split(' ')[0],x.split(' ')[0]) if len(x.split(' ')[0])==2 else x).str.contains('HR')].sample()"
   ]
  },
  {
   "cell_type": "code",
   "execution_count": 196,
   "id": "ddae7da0",
   "metadata": {},
   "outputs": [
    {
     "data": {
      "text/plain": [
       "Title                                         SrNET Developer\n",
       "Company                                               Z2 Data\n",
       "Location                                            Nasr City\n",
       "Type                                                Full Time\n",
       "Level                                             Experienced\n",
       "YearsExp                                        4+ Yrs of Exp\n",
       "Country                                                 Cairo\n",
       "Skills      BACKEND, FULL STACK, MVC, C#, ASP.NET, DEVELOP...\n",
       "Name: 265, dtype: object"
      ]
     },
     "execution_count": 196,
     "metadata": {},
     "output_type": "execute_result"
    }
   ],
   "source": [
    "#check for abbreviations belong to title \n",
    "dataset[dataset['Title'].str.startswith('Sr')].loc[265]"
   ]
  },
  {
   "cell_type": "code",
   "execution_count": 197,
   "id": "b61afdbb",
   "metadata": {},
   "outputs": [],
   "source": [
    "#split abbreviation away from title \n",
    "abbrs = list(ABBR_DICT.keys())\n",
    "dataset['Title'] = dataset['Title'].apply(lambda x:x[:2]+' '+x[2:] if x[:2] in abbrs else x)"
   ]
  },
  {
   "cell_type": "code",
   "execution_count": 198,
   "id": "f21605be",
   "metadata": {},
   "outputs": [
    {
     "data": {
      "text/plain": [
       "'Sr NET Developer'"
      ]
     },
     "execution_count": 198,
     "metadata": {},
     "output_type": "execute_result"
    }
   ],
   "source": [
    "#check for sure\n",
    "dataset['Title'].iloc[265]"
   ]
  },
  {
   "cell_type": "code",
   "execution_count": 199,
   "id": "bc93f79f",
   "metadata": {},
   "outputs": [],
   "source": [
    "#replace abbreviation if it is at the beginning of title\n",
    "dataset['Title'] = dataset['Title'].apply(lambda x: x.replace(x.split(' ')[0],ABBR_DICT.get(x.split(' ')[0],x.split(' ')[0])) if len(x.split(' ')[0])==2 else x)"
   ]
  },
  {
   "cell_type": "code",
   "execution_count": 200,
   "id": "884774e1",
   "metadata": {},
   "outputs": [],
   "source": [
    "#replace abbreviation if it is in the second word of title\n",
    "dataset['Title'] = dataset['Title'].apply(lambda x: x if len(x.split(' '))==1 else ( x.replace(x.split(' ')[1],ABBR_DICT.get(x.split(' ')[1],x.split(' ')[1])) if len(x.split(' ')[1])==2 else x))"
   ]
  },
  {
   "cell_type": "code",
   "execution_count": 201,
   "id": "31e8723f",
   "metadata": {},
   "outputs": [],
   "source": [
    "#replace abbreviation if it is in the third word of title\n",
    "dataset['Title'] = dataset['Title'].apply(lambda x: x if len(x.split(' '))<=2 else ( x.replace(x.split(' ')[2],ABBR_DICT.get(x.split(' ')[2],x.split(' ')[2])) if len(x.split(' ')[2])==2 else x))"
   ]
  },
  {
   "cell_type": "code",
   "execution_count": 202,
   "id": "fd401b7d",
   "metadata": {},
   "outputs": [
    {
     "data": {
      "text/html": [
       "<div>\n",
       "<style scoped>\n",
       "    .dataframe tbody tr th:only-of-type {\n",
       "        vertical-align: middle;\n",
       "    }\n",
       "\n",
       "    .dataframe tbody tr th {\n",
       "        vertical-align: top;\n",
       "    }\n",
       "\n",
       "    .dataframe thead th {\n",
       "        text-align: right;\n",
       "    }\n",
       "</style>\n",
       "<table border=\"1\" class=\"dataframe\">\n",
       "  <thead>\n",
       "    <tr style=\"text-align: right;\">\n",
       "      <th></th>\n",
       "      <th>Title</th>\n",
       "      <th>Company</th>\n",
       "      <th>Location</th>\n",
       "      <th>Type</th>\n",
       "      <th>Level</th>\n",
       "      <th>YearsExp</th>\n",
       "      <th>Country</th>\n",
       "      <th>Skills</th>\n",
       "    </tr>\n",
       "  </thead>\n",
       "  <tbody>\n",
       "  </tbody>\n",
       "</table>\n",
       "</div>"
      ],
      "text/plain": [
       "Empty DataFrame\n",
       "Columns: [Title, Company, Location, Type, Level, YearsExp, Country, Skills]\n",
       "Index: []"
      ]
     },
     "execution_count": 202,
     "metadata": {},
     "output_type": "execute_result"
    }
   ],
   "source": [
    "#check for sure\n",
    "dataset[dataset['Title'].str.contains('HR')]"
   ]
  },
  {
   "cell_type": "markdown",
   "id": "676437bd",
   "metadata": {},
   "source": [
    "================================================================================================"
   ]
  },
  {
   "cell_type": "markdown",
   "id": "70fb8127",
   "metadata": {},
   "source": [
    "### Preprocess location"
   ]
  },
  {
   "cell_type": "code",
   "execution_count": 203,
   "id": "38200d0e",
   "metadata": {},
   "outputs": [
    {
     "data": {
      "text/plain": [
       "' New Cairo'"
      ]
     },
     "execution_count": 203,
     "metadata": {},
     "output_type": "execute_result"
    }
   ],
   "source": [
    "dataset['Location'][0]"
   ]
  },
  {
   "cell_type": "markdown",
   "id": "19e53050",
   "metadata": {},
   "source": [
    "* we notice there is space at the beginning of each word"
   ]
  },
  {
   "cell_type": "code",
   "execution_count": 204,
   "id": "ff09fcbf",
   "metadata": {},
   "outputs": [],
   "source": [
    "#remove space from the word\n",
    "dataset['Location'] = dataset['Location'].apply(lambda x: x[1:])\n"
   ]
  },
  {
   "cell_type": "code",
   "execution_count": 205,
   "id": "82c38351",
   "metadata": {},
   "outputs": [
    {
     "data": {
      "text/plain": [
       "'New Cairo'"
      ]
     },
     "execution_count": 205,
     "metadata": {},
     "output_type": "execute_result"
    }
   ],
   "source": [
    "#check for sure\n",
    "dataset['Location'][0]"
   ]
  },
  {
   "cell_type": "code",
   "execution_count": 206,
   "id": "f0791ad4",
   "metadata": {},
   "outputs": [
    {
     "data": {
      "text/plain": [
       "0"
      ]
     },
     "execution_count": 206,
     "metadata": {},
     "output_type": "execute_result"
    }
   ],
   "source": [
    "#check for null values\n",
    "dataset['Location'].str.contains('null').sum()"
   ]
  },
  {
   "cell_type": "code",
   "execution_count": 207,
   "id": "85fe329f",
   "metadata": {},
   "outputs": [
    {
     "data": {
      "text/plain": [
       "0"
      ]
     },
     "execution_count": 207,
     "metadata": {},
     "output_type": "execute_result"
    }
   ],
   "source": [
    "dataset['Location'].isnull().sum()"
   ]
  },
  {
   "cell_type": "markdown",
   "id": "48aa8b60",
   "metadata": {},
   "source": [
    "=============================================================================================="
   ]
  },
  {
   "cell_type": "markdown",
   "id": "6e3b8669",
   "metadata": {},
   "source": [
    "### Preprocess YearsExp"
   ]
  },
  {
   "cell_type": "code",
   "execution_count": 208,
   "id": "3828141a",
   "metadata": {},
   "outputs": [
    {
     "data": {
      "text/html": [
       "<div>\n",
       "<style scoped>\n",
       "    .dataframe tbody tr th:only-of-type {\n",
       "        vertical-align: middle;\n",
       "    }\n",
       "\n",
       "    .dataframe tbody tr th {\n",
       "        vertical-align: top;\n",
       "    }\n",
       "\n",
       "    .dataframe thead th {\n",
       "        text-align: right;\n",
       "    }\n",
       "</style>\n",
       "<table border=\"1\" class=\"dataframe\">\n",
       "  <thead>\n",
       "    <tr style=\"text-align: right;\">\n",
       "      <th></th>\n",
       "      <th>Title</th>\n",
       "      <th>Company</th>\n",
       "      <th>Location</th>\n",
       "      <th>Type</th>\n",
       "      <th>Level</th>\n",
       "      <th>YearsExp</th>\n",
       "      <th>Country</th>\n",
       "      <th>Skills</th>\n",
       "    </tr>\n",
       "  </thead>\n",
       "  <tbody>\n",
       "    <tr>\n",
       "      <th>1566</th>\n",
       "      <td>Medical Recruiter Intern</td>\n",
       "      <td>Andalusia Group</td>\n",
       "      <td>Maadi</td>\n",
       "      <td>Internship</td>\n",
       "      <td>Entry Level</td>\n",
       "      <td>null Yrs of Exp</td>\n",
       "      <td>Cairo</td>\n",
       "      <td>Recruitment, Screening, Medical Network, Pharm...</td>\n",
       "    </tr>\n",
       "  </tbody>\n",
       "</table>\n",
       "</div>"
      ],
      "text/plain": [
       "                         Title          Company Location        Type  \\\n",
       "1566  Medical Recruiter Intern  Andalusia Group    Maadi  Internship   \n",
       "\n",
       "            Level         YearsExp Country  \\\n",
       "1566  Entry Level  null Yrs of Exp   Cairo   \n",
       "\n",
       "                                                 Skills  \n",
       "1566  Recruitment, Screening, Medical Network, Pharm...  "
      ]
     },
     "execution_count": 208,
     "metadata": {},
     "output_type": "execute_result"
    }
   ],
   "source": [
    "#check for null\n",
    "dataset[dataset['YearsExp'].str.contains('null')].sample()"
   ]
  },
  {
   "cell_type": "code",
   "execution_count": 209,
   "id": "f41a8bfc",
   "metadata": {},
   "outputs": [],
   "source": [
    "#replace null values with empty string\n",
    "dataset['YearsExp'] = dataset['YearsExp'].apply(lambda x:'' if 'null' in x else x)"
   ]
  },
  {
   "cell_type": "code",
   "execution_count": 210,
   "id": "cc6951a0",
   "metadata": {},
   "outputs": [
    {
     "data": {
      "text/plain": [
       "0"
      ]
     },
     "execution_count": 210,
     "metadata": {},
     "output_type": "execute_result"
    }
   ],
   "source": [
    "#check for sure\n",
    "dataset['YearsExp'].str.contains('null').sum()"
   ]
  },
  {
   "cell_type": "markdown",
   "id": "a77f5c0e",
   "metadata": {},
   "source": [
    "### Preprocess skills"
   ]
  },
  {
   "cell_type": "code",
   "execution_count": 211,
   "id": "012098d9",
   "metadata": {},
   "outputs": [
    {
     "data": {
      "text/plain": [
       "287     Servers, Linux, Windows, Software, MySQL, Virt...\n",
       "2776    Mechanical Engineering, Design, MDB, MCC, Auto...\n",
       "4008    Quality Assurance, QC, QA, Quality Control, Mi...\n",
       "2751    E-Marketing, CMS, SEO, SEM, PPC, Advertising, ...\n",
       "4112    Financial Analysis, Commerce, Tax Accounting, ...\n",
       "Name: Skills, dtype: object"
      ]
     },
     "execution_count": 211,
     "metadata": {},
     "output_type": "execute_result"
    }
   ],
   "source": [
    "#comma delimiter\n",
    "dataset['Skills'].sample(5)"
   ]
  },
  {
   "cell_type": "code",
   "execution_count": 212,
   "id": "c00b3186",
   "metadata": {},
   "outputs": [
    {
     "data": {
      "text/plain": [
       "'فنيين, صيانة, ميكانيكة, Manufacturing/Production'"
      ]
     },
     "execution_count": 212,
     "metadata": {},
     "output_type": "execute_result"
    }
   ],
   "source": [
    "#arabic words\n",
    "dataset['Skills'].iloc[51]"
   ]
  },
  {
   "cell_type": "code",
   "execution_count": 213,
   "id": "b464ba19",
   "metadata": {},
   "outputs": [
    {
     "data": {
      "text/plain": [
       "'Real Estate, New Cairo, Sales Target, Sales Skills, English, Property Sales, Property Consultant, Customer Service/Support'"
      ]
     },
     "execution_count": 213,
     "metadata": {},
     "output_type": "execute_result"
    }
   ],
   "source": [
    "#location found in skills\n",
    "dataset['Skills'].iloc[3644]"
   ]
  },
  {
   "cell_type": "markdown",
   "id": "e24048aa",
   "metadata": {},
   "source": [
    "* we notice skills are separated by comma delimiter, some contains Arabic words and others contains location"
   ]
  },
  {
   "cell_type": "code",
   "execution_count": 214,
   "id": "a42e4c15",
   "metadata": {},
   "outputs": [],
   "source": [
    "# reuse the function of filter words and modify it\n",
    "#function to filter and normalize words\n",
    "def filter_words_skills(dataset,col_name):\n",
    "    \"\"\"\n",
    "    function to remove words written in another language,location if exists and normalize words\n",
    "    Parameters:\n",
    "    * dataset (pd.DataFrame)\n",
    "    * col_name (String)\n",
    "     \n",
    "    Return (pd.Series)\n",
    "    \"\"\"\n",
    "    #remove other words -> remove more spaces -> trim -> title -> remove location if exists\n",
    "    processed_dataSeries = []\n",
    "    data_series = dataset[col_name]\n",
    "    \n",
    "    for index in range(len(dataset)):\n",
    "        text = re.sub('\\s+',' ',re.sub('[^a-zA-Z\\s,/().0-9-]','',data_series[index]).strip()).title()\n",
    "        location = dataset['Location'][index] \n",
    "\n",
    "        if location in text:\n",
    "            text = text.replace(location,'')\n",
    "            \n",
    "        text = text.split(',')\n",
    "        \n",
    "        #convert any space into ''\n",
    "        text = list(map(str.strip, text))\n",
    "        \n",
    "        #remove ''\n",
    "        for _ in range(text.count('')):\n",
    "            text.remove('')\n",
    "\n",
    "\n",
    "        processed_dataSeries.append(text)\n",
    "        \n",
    "    return pd.Series(processed_dataSeries)\n"
   ]
  },
  {
   "cell_type": "code",
   "execution_count": 215,
   "id": "8260f26c",
   "metadata": {},
   "outputs": [
    {
     "data": {
      "text/plain": [
       "['Manufacturing/Production']"
      ]
     },
     "execution_count": 215,
     "metadata": {},
     "output_type": "execute_result"
    }
   ],
   "source": [
    "filter_words_skills(dataset,'Skills').iloc[51]"
   ]
  },
  {
   "cell_type": "code",
   "execution_count": 216,
   "id": "bb092d1b",
   "metadata": {},
   "outputs": [
    {
     "data": {
      "text/plain": [
       "['Real Estate',\n",
       " 'Sales Target',\n",
       " 'Sales Skills',\n",
       " 'English',\n",
       " 'Property Sales',\n",
       " 'Property Consultant',\n",
       " 'Customer Service/Support']"
      ]
     },
     "execution_count": 216,
     "metadata": {},
     "output_type": "execute_result"
    }
   ],
   "source": [
    "filter_words_skills(dataset,'Skills').iloc[3644]"
   ]
  },
  {
   "cell_type": "code",
   "execution_count": 217,
   "id": "ac3a0154",
   "metadata": {},
   "outputs": [
    {
     "data": {
      "text/plain": [
       "['Digital Marketing',\n",
       " 'Online Marketing',\n",
       " 'Seo',\n",
       " 'English',\n",
       " 'Google Adwords',\n",
       " 'Design',\n",
       " 'Campaigns',\n",
       " 'Social Media Marketing',\n",
       " 'Ppc',\n",
       " 'Cms']"
      ]
     },
     "execution_count": 217,
     "metadata": {},
     "output_type": "execute_result"
    }
   ],
   "source": [
    "filter_words_skills(dataset,'Skills').iloc[556]"
   ]
  },
  {
   "cell_type": "code",
   "execution_count": 218,
   "id": "efefe0d7",
   "metadata": {},
   "outputs": [],
   "source": [
    "dataset['Skills'] = filter_words_skills(dataset,'Skills')"
   ]
  },
  {
   "cell_type": "markdown",
   "id": "bfc73dd9",
   "metadata": {},
   "source": [
    "====================================================================================="
   ]
  },
  {
   "cell_type": "code",
   "execution_count": 219,
   "id": "2f953e7f",
   "metadata": {},
   "outputs": [
    {
     "data": {
      "text/html": [
       "<div>\n",
       "<style scoped>\n",
       "    .dataframe tbody tr th:only-of-type {\n",
       "        vertical-align: middle;\n",
       "    }\n",
       "\n",
       "    .dataframe tbody tr th {\n",
       "        vertical-align: top;\n",
       "    }\n",
       "\n",
       "    .dataframe thead th {\n",
       "        text-align: right;\n",
       "    }\n",
       "</style>\n",
       "<table border=\"1\" class=\"dataframe\">\n",
       "  <thead>\n",
       "    <tr style=\"text-align: right;\">\n",
       "      <th></th>\n",
       "      <th>Title</th>\n",
       "      <th>Company</th>\n",
       "      <th>Location</th>\n",
       "      <th>Type</th>\n",
       "      <th>Level</th>\n",
       "      <th>YearsExp</th>\n",
       "      <th>Country</th>\n",
       "      <th>Skills</th>\n",
       "    </tr>\n",
       "  </thead>\n",
       "  <tbody>\n",
       "    <tr>\n",
       "      <th>0</th>\n",
       "      <td>Customer Service Agent</td>\n",
       "      <td>Johnson Controls</td>\n",
       "      <td>New Cairo</td>\n",
       "      <td>Full Time</td>\n",
       "      <td>Entry Level</td>\n",
       "      <td>1-3 Yrs of Exp</td>\n",
       "      <td>Cairo</td>\n",
       "      <td>[Call Center, Customer Support, Customer Care,...</td>\n",
       "    </tr>\n",
       "    <tr>\n",
       "      <th>1</th>\n",
       "      <td>Marketing Manager</td>\n",
       "      <td>SYE English Community</td>\n",
       "      <td>Dokki</td>\n",
       "      <td>Full Time</td>\n",
       "      <td>Manager</td>\n",
       "      <td>5-10 Yrs of Exp</td>\n",
       "      <td>Giza</td>\n",
       "      <td>[Market Research, Social Media, Online Marketi...</td>\n",
       "    </tr>\n",
       "    <tr>\n",
       "      <th>2</th>\n",
       "      <td>Medical Representative Heliopolis</td>\n",
       "      <td>So Value Pharma</td>\n",
       "      <td>Cairo</td>\n",
       "      <td>Full Time</td>\n",
       "      <td>Entry Level</td>\n",
       "      <td>0-5 Yrs of Exp</td>\n",
       "      <td>Egypt</td>\n",
       "      <td>[Cardio-Metabolic, Sales Skills, Sales Target,...</td>\n",
       "    </tr>\n",
       "    <tr>\n",
       "      <th>3</th>\n",
       "      <td>Order Handling Specialist</td>\n",
       "      <td>Johnson Controls</td>\n",
       "      <td>New Cairo</td>\n",
       "      <td>Full Time</td>\n",
       "      <td>Experienced</td>\n",
       "      <td>3-5 Yrs of Exp</td>\n",
       "      <td>Cairo</td>\n",
       "      <td>[Supply Officer, Supply Planner, Procurement A...</td>\n",
       "    </tr>\n",
       "    <tr>\n",
       "      <th>4</th>\n",
       "      <td>Storekeeper</td>\n",
       "      <td>Confidential</td>\n",
       "      <td>Cairo</td>\n",
       "      <td>Full Time</td>\n",
       "      <td>Experienced</td>\n",
       "      <td>3+ Yrs of Exp</td>\n",
       "      <td>Egypt</td>\n",
       "      <td>[Warehousing, Storekeeping, Logistics/Supply C...</td>\n",
       "    </tr>\n",
       "  </tbody>\n",
       "</table>\n",
       "</div>"
      ],
      "text/plain": [
       "                               Title                Company   Location  \\\n",
       "0             Customer Service Agent       Johnson Controls  New Cairo   \n",
       "1                  Marketing Manager  SYE English Community      Dokki   \n",
       "2  Medical Representative Heliopolis        So Value Pharma      Cairo   \n",
       "3          Order Handling Specialist       Johnson Controls  New Cairo   \n",
       "4                        Storekeeper           Confidential      Cairo   \n",
       "\n",
       "        Type        Level         YearsExp Country  \\\n",
       "0  Full Time  Entry Level   1-3 Yrs of Exp   Cairo   \n",
       "1  Full Time      Manager  5-10 Yrs of Exp    Giza   \n",
       "2  Full Time  Entry Level   0-5 Yrs of Exp   Egypt   \n",
       "3  Full Time  Experienced   3-5 Yrs of Exp   Cairo   \n",
       "4  Full Time  Experienced    3+ Yrs of Exp   Egypt   \n",
       "\n",
       "                                              Skills  \n",
       "0  [Call Center, Customer Support, Customer Care,...  \n",
       "1  [Market Research, Social Media, Online Marketi...  \n",
       "2  [Cardio-Metabolic, Sales Skills, Sales Target,...  \n",
       "3  [Supply Officer, Supply Planner, Procurement A...  \n",
       "4  [Warehousing, Storekeeping, Logistics/Supply C...  "
      ]
     },
     "execution_count": 219,
     "metadata": {},
     "output_type": "execute_result"
    }
   ],
   "source": [
    "dataset.head()"
   ]
  },
  {
   "cell_type": "markdown",
   "id": "5a880ae0",
   "metadata": {},
   "source": [
    "### save preprocessed data to pickle file"
   ]
  },
  {
   "cell_type": "code",
   "execution_count": 220,
   "id": "e6ecd05d",
   "metadata": {},
   "outputs": [],
   "source": [
    "#save dataset\n",
    "dataset.to_pickle(PREPROCESSED_DATA_PATH)"
   ]
  },
  {
   "cell_type": "code",
   "execution_count": null,
   "id": "5511f5eb",
   "metadata": {},
   "outputs": [],
   "source": []
  }
 ],
 "metadata": {
  "kernelspec": {
   "display_name": "Python 3",
   "language": "python",
   "name": "python3"
  },
  "language_info": {
   "codemirror_mode": {
    "name": "ipython",
    "version": 3
   },
   "file_extension": ".py",
   "mimetype": "text/x-python",
   "name": "python",
   "nbconvert_exporter": "python",
   "pygments_lexer": "ipython3",
   "version": "3.8.5"
  }
 },
 "nbformat": 4,
 "nbformat_minor": 5
}
